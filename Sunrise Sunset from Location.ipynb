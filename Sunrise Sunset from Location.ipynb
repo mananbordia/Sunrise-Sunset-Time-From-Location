{
 "cells": [
  {
   "cell_type": "markdown",
   "id": "42bcbdc0",
   "metadata": {},
   "source": [
    "## Sunrise and Sunset from latitude\n",
    "Author : Manan Bordia\\\n",
    "Last Modified : 27 May 2022"
   ]
  },
  {
   "cell_type": "markdown",
   "id": "32cf5079",
   "metadata": {},
   "source": [
    "### Calculate day of the year ###"
   ]
  },
  {
   "cell_type": "code",
   "execution_count": 17,
   "id": "7e649d59",
   "metadata": {},
   "outputs": [
    {
     "data": {
      "text/plain": [
       "calcDay (generic function with 1 method)"
      ]
     },
     "execution_count": 17,
     "metadata": {},
     "output_type": "execute_result"
    }
   ],
   "source": [
    "function calcDay(day::Int, month::Int, year::Int)::Int\n",
    "    N1::Int = floor(275 * month / 9)\n",
    "    N2::Int = floor((month + 9) / 12)\n",
    "    N3::Int = (1 + floor((year - 4 * floor(year / 4) + 2) / 3))\n",
    "    N::Int = N1 - (N2 * N3) + day - 30\n",
    "    return N\n",
    "end"
   ]
  },
  {
   "cell_type": "markdown",
   "id": "0dc969ee",
   "metadata": {},
   "source": [
    "### Convert Latitude to Hours and Calculate Approx Time"
   ]
  },
  {
   "cell_type": "code",
   "execution_count": 18,
   "id": "f60fa009",
   "metadata": {
    "scrolled": true
   },
   "outputs": [
    {
     "data": {
      "text/plain": [
       "calcApproxTime (generic function with 1 method)"
      ]
     },
     "execution_count": 18,
     "metadata": {},
     "output_type": "execute_result"
    }
   ],
   "source": [
    "function calcApproxTime(N::Int, timeType::String, longitude::Float64)::Float64\n",
    "    lngHour = longitude / 15\n",
    "    \n",
    "    if timeType == \"sunrise\"\n",
    "        t = N + ((6 - lngHour) / 24)\n",
    "    elseif timeType == \"sunset\"\n",
    "        t = N + ((18 - lngHour) / 24)\n",
    "    end\n",
    "    return t\n",
    "end"
   ]
  },
  {
   "cell_type": "markdown",
   "id": "537a0dc8",
   "metadata": {},
   "source": [
    "### Calculate Sun's mean anomaly"
   ]
  },
  {
   "cell_type": "code",
   "execution_count": 19,
   "id": "40b77fd8",
   "metadata": {},
   "outputs": [
    {
     "data": {
      "text/plain": [
       "calcMeanAnom (generic function with 1 method)"
      ]
     },
     "execution_count": 19,
     "metadata": {},
     "output_type": "execute_result"
    }
   ],
   "source": [
    "function calcMeanAnom(t::Float64)::Float64\n",
    "    return M = (0.9856 * t) - 3.289\n",
    "end"
   ]
  },
  {
   "cell_type": "markdown",
   "id": "855daeaf",
   "metadata": {},
   "source": [
    "### Calculate Mod for Float values"
   ]
  },
  {
   "cell_type": "code",
   "execution_count": 20,
   "id": "1455554f",
   "metadata": {},
   "outputs": [
    {
     "data": {
      "text/plain": [
       "calcMod (generic function with 1 method)"
      ]
     },
     "execution_count": 20,
     "metadata": {},
     "output_type": "execute_result"
    }
   ],
   "source": [
    "function calcMod(x::Number, n::Int)::Number\n",
    "    return x - floor(x/n)*n\n",
    "end"
   ]
  },
  {
   "cell_type": "markdown",
   "id": "937abc7d",
   "metadata": {},
   "source": [
    "### Calculate Sun's true longitude"
   ]
  },
  {
   "cell_type": "code",
   "execution_count": 21,
   "id": "91668e47",
   "metadata": {},
   "outputs": [
    {
     "data": {
      "text/plain": [
       "calcTrueLong (generic function with 1 method)"
      ]
     },
     "execution_count": 21,
     "metadata": {},
     "output_type": "execute_result"
    }
   ],
   "source": [
    "function calcTrueLong(MeanAnom::Float64)\n",
    "    L = MeanAnom + (1.916 * sind(MeanAnom)) + (0.020 * sind(2*MeanAnom)) + 282.634\n",
    "    return calcMod(L, 360)   \n",
    "end"
   ]
  },
  {
   "cell_type": "markdown",
   "id": "525697e6",
   "metadata": {},
   "source": [
    " ### Calculate Sun's right ascension with quadrant tranformation"
   ]
  },
  {
   "cell_type": "code",
   "execution_count": 22,
   "id": "19726f21",
   "metadata": {},
   "outputs": [
    {
     "data": {
      "text/plain": [
       "quadTransRightAscenInHours (generic function with 1 method)"
      ]
     },
     "execution_count": 22,
     "metadata": {},
     "output_type": "execute_result"
    }
   ],
   "source": [
    "function calcRightAscen(L::Float64)::Float64\n",
    "    RA = atand(0.91764 * tand(L))\n",
    "    return calcMod(RA, 360)\n",
    "end\n",
    "\n",
    "function quadTransRightAscenInHours(L::Float64, RA::Float64)::Float64\n",
    "    Lquad = floor(L/90) * 90\n",
    "    RAquad = floor(RA/90) * 90\n",
    "    RA = RA + (Lquad - RAquad)\n",
    "    return RA/15\n",
    "end"
   ]
  },
  {
   "cell_type": "markdown",
   "id": "eda04da3",
   "metadata": {},
   "source": [
    "### Calculate Sun's declination"
   ]
  },
  {
   "cell_type": "code",
   "execution_count": 23,
   "id": "29802bd4",
   "metadata": {},
   "outputs": [
    {
     "data": {
      "text/plain": [
       "calcDecli (generic function with 1 method)"
      ]
     },
     "execution_count": 23,
     "metadata": {},
     "output_type": "execute_result"
    }
   ],
   "source": [
    "function calcDecli(L::Float64)::NamedTuple{(:sinDecli, :cosDecli), Tuple{Float64, Float64}}\n",
    "    sinDecli = 0.39782 * sind(L)\n",
    "    cosDecli = cosd(asind(sinDecli))\n",
    "    return (sinDecli = sinDecli, cosDecli = cosDecli)\n",
    "end"
   ]
  },
  {
   "cell_type": "markdown",
   "id": "d1e0cd5c",
   "metadata": {},
   "source": [
    "### Calculate Sun's Local Hour Angle"
   ]
  },
  {
   "cell_type": "code",
   "execution_count": 24,
   "id": "af9e410a",
   "metadata": {},
   "outputs": [
    {
     "data": {
      "text/plain": [
       "calcLocHourAngle (generic function with 1 method)"
      ]
     },
     "execution_count": 24,
     "metadata": {},
     "output_type": "execute_result"
    }
   ],
   "source": [
    "function calcLocHourAngle(timeType::String, sinDecli::Float64, cosDecli::Float64, latitude::Float64)::Float64\n",
    "    zenith = 90 + 50/60\n",
    "    cosH = (cosd(zenith) - (sinDecli * sind(latitude))) / (cosDecli * cosd(latitude))\n",
    "\n",
    "    if (cosH >  1 && timeType == \"sunrise\") \n",
    "        error(\"Sun never rises on this location on the specified date\")  \n",
    "    elseif (cosH < -1)\n",
    "        error(\"Sun never sets on this location on the specified date\")  \n",
    "    end\n",
    "    return cosH\n",
    "end"
   ]
  },
  {
   "cell_type": "markdown",
   "id": "d45f5dac",
   "metadata": {},
   "source": [
    "### Calculate H and convert into hours"
   ]
  },
  {
   "cell_type": "code",
   "execution_count": 25,
   "id": "3edaa2d3",
   "metadata": {
    "scrolled": true
   },
   "outputs": [
    {
     "data": {
      "text/plain": [
       "calcHInHours (generic function with 1 method)"
      ]
     },
     "execution_count": 25,
     "metadata": {},
     "output_type": "execute_result"
    }
   ],
   "source": [
    "function calcHInHours(timeType::String, cosH::Float64)::Float64\n",
    "    H = nothing\n",
    "    if timeType == \"sunrise\"\n",
    "        H = 360 - acosd(cosH)\n",
    "    elseif timeType == \"sunset\"\n",
    "        H = acosd(cosH)\n",
    "    else\n",
    "        error(\"Wrong timeType provided.\")\n",
    "    end\n",
    "    return H/15\n",
    "end"
   ]
  },
  {
   "cell_type": "markdown",
   "id": "d1d08716",
   "metadata": {},
   "source": [
    "### Calculate local mean time for sunrise or sunset"
   ]
  },
  {
   "cell_type": "code",
   "execution_count": 26,
   "id": "f7a5bf5d",
   "metadata": {
    "scrolled": true
   },
   "outputs": [
    {
     "data": {
      "text/plain": [
       "calcLocMeanTime (generic function with 1 method)"
      ]
     },
     "execution_count": 26,
     "metadata": {},
     "output_type": "execute_result"
    }
   ],
   "source": [
    "function calcLocMeanTime(t::Float64, RA::Float64, H::Float64)::Float64\n",
    "    return T = H + RA - (0.06571 * t) - 6.622\n",
    "end"
   ]
  },
  {
   "cell_type": "markdown",
   "id": "4aabdfb1",
   "metadata": {},
   "source": [
    "### Get time in hours in UTC timezone "
   ]
  },
  {
   "cell_type": "code",
   "execution_count": 27,
   "id": "2dd3ae3a",
   "metadata": {},
   "outputs": [
    {
     "data": {
      "text/plain": [
       "convertToUTCInHours (generic function with 1 method)"
      ]
     },
     "execution_count": 27,
     "metadata": {},
     "output_type": "execute_result"
    }
   ],
   "source": [
    "function convertToUTCInHours(T::Float64, longitude::Float64)::Float64\n",
    "    lngHour = longitude / 15\n",
    "    UT = T - lngHour\n",
    "    return calcMod(UT, 24)\n",
    "end"
   ]
  },
  {
   "cell_type": "markdown",
   "id": "9cda1eb8",
   "metadata": {},
   "source": [
    "## Functions to calculate sunrise or sunset time from coordinates and date"
   ]
  },
  {
   "cell_type": "code",
   "execution_count": 28,
   "id": "46b186a4",
   "metadata": {
    "scrolled": true
   },
   "outputs": [
    {
     "data": {
      "text/plain": [
       "calcSunsetTime (generic function with 1 method)"
      ]
     },
     "execution_count": 28,
     "metadata": {},
     "output_type": "execute_result"
    }
   ],
   "source": [
    "function calcSunriseOrSunset(timeType::String,latitude::Float64, longitude::Float64, day::Int, month::Int, year::Int)::Float64\n",
    "    N = calcDay(day, month, year)\n",
    "    t = calcApproxTime(N, timeType, longitude)\n",
    "    M = calcMeanAnom(t)\n",
    "    L = calcTrueLong(M)\n",
    "    RA = calcRightAscen(L)\n",
    "    RA = quadTransRightAscenInHours(L, RA)\n",
    "    decli = calcDecli(L)\n",
    "    cosH = calcLocHourAngle(timeType, decli.sinDecli, decli.cosDecli, latitude) \n",
    "\n",
    "    H = calcHInHours(timeType, cosH)\n",
    "    T = calcLocMeanTime(t, RA, H)\n",
    "    return UT = convertToUTCInHours(T, longitude)\n",
    "end\n",
    "\n",
    "function calcSunriseTime(latitude::Float64, longitude::Float64, day::Int, month::Int, year::Int)\n",
    "     return calcSunriseOrSunset(\"sunrise\", latitude, longitude, day, month, year)\n",
    "end\n",
    "\n",
    "function calcSunsetTime(latitude::Float64, longitude::Float64,  day::Int, month::Int, year::Int)\n",
    "    return calcSunriseOrSunset(\"sunset\", latitude, longitude, day, month, year)\n",
    "end"
   ]
  },
  {
   "cell_type": "markdown",
   "id": "ac6888f2",
   "metadata": {},
   "source": [
    "### Get time in h:m:s format from UTC hours"
   ]
  },
  {
   "cell_type": "code",
   "execution_count": 29,
   "id": "28123425",
   "metadata": {},
   "outputs": [
    {
     "data": {
      "text/plain": [
       "getTimeFromHours (generic function with 1 method)"
      ]
     },
     "execution_count": 29,
     "metadata": {},
     "output_type": "execute_result"
    }
   ],
   "source": [
    "function getTimeFromHours(t::Float64)\n",
    "    t = calcMod(t,24)\n",
    "    meridian = t >= 12 ? \"pm\" : \"am\"\n",
    "    t = calcMod(t, 12)\n",
    "    h :: Int = floor(t)\n",
    "    m :: Int = floor((t - h)*60)\n",
    "    s :: Int = floor(((t - h)*60 - m)*60)\n",
    "    return (string(h) * \":\" * string(m) * \":\" * string(s) * \" \" * meridian)\n",
    "end"
   ]
  },
  {
   "cell_type": "markdown",
   "id": "4f655dcb",
   "metadata": {},
   "source": [
    "## Testing Code for Kota, Rajasthan (India) : 27 May 2022\n",
    "Actual sunrise - 5:37 am \\\n",
    "Actual sunset - 7:10 pm"
   ]
  },
  {
   "cell_type": "code",
   "execution_count": 30,
   "id": "6f8f9120",
   "metadata": {},
   "outputs": [
    {
     "name": "stdout",
     "output_type": "stream",
     "text": [
      "Sunrise in UTC (hrs) - 0:7:26 am\n",
      "Sunset in UTC (hrs) - 1:39:59 pm\n",
      "\n",
      "Sunrise in IST (hrs) - 5:37:26 am\n",
      "Sunset in IST (hrs) - 7:9:59 pm\n"
     ]
    }
   ],
   "source": [
    "sunriseTime = calcSunriseTime(25.213816, 75.864754, 27,5,2022)\n",
    "sunsetTime = calcSunsetTime(25.213816, 75.864754, 27,5,2022)\n",
    "\n",
    "IST = +(5 + 30/60) # +5:30 hrs\n",
    "\n",
    "println(\"Sunrise in UTC (hrs) - \", getTimeFromHours(sunriseTime))\n",
    "println(\"Sunset in UTC (hrs) - \",getTimeFromHours(sunsetTime), '\\n')\n",
    "\n",
    "println(\"Sunrise in IST (hrs) - \",getTimeFromHours(sunriseTime + IST))\n",
    "println(\"Sunset in IST (hrs) - \",getTimeFromHours(sunsetTime + IST))"
   ]
  },
  {
   "cell_type": "markdown",
   "id": "690191f7",
   "metadata": {},
   "source": [
    "## Testing Code for Boston, Massachusetts (USA) : 27 May 2022\n",
    "Actual sunrise - 5:13 am\\\n",
    "Actual sunset - 8:10 pm"
   ]
  },
  {
   "cell_type": "code",
   "execution_count": 31,
   "id": "2b6a866b",
   "metadata": {},
   "outputs": [
    {
     "name": "stdout",
     "output_type": "stream",
     "text": [
      "Sunrise in UTC - 9:13:6 am\n",
      "Sunset in UTC - 0:10:14 am\n",
      "\n",
      "Sunrise in EDT - 5:13:6 am\n",
      "Sunset in EDT - 8:10:14 pm\n"
     ]
    }
   ],
   "source": [
    "sunriseTime = calcSunriseTime(42.33823943197661, -71.08809895118287, 27,5,2022)\n",
    "sunsetTime = calcSunsetTime(42.33823943197661, -71.08809895118287, 27,5,2022)\n",
    "EDT = -4 # -4:00 hrs\n",
    "\n",
    "println(\"Sunrise in UTC - \", getTimeFromHours(sunriseTime))\n",
    "println(\"Sunset in UTC - \",getTimeFromHours(sunsetTime),'\\n')\n",
    "\n",
    "println(\"Sunrise in EDT - \",getTimeFromHours(sunriseTime + EDT))\n",
    "println(\"Sunset in EDT - \",getTimeFromHours(sunsetTime + EDT))"
   ]
  },
  {
   "cell_type": "markdown",
   "id": "3036aaa1",
   "metadata": {},
   "source": [
    "### Testing Code for Sydney, New South Wales (Australia) : 27 May 2022\n",
    "Actual sunrise - 6:48 am \\\n",
    "Actual sunset - 4:56 pm"
   ]
  },
  {
   "cell_type": "code",
   "execution_count": 16,
   "id": "291dc32e",
   "metadata": {},
   "outputs": [
    {
     "name": "stdout",
     "output_type": "stream",
     "text": [
      "Sunrise in UTC - 8:48:8 pm\n",
      "Sunset in UTC - 6:56:15 am\n",
      "\n",
      "Sunrise in AEST - 6:48:8 am\n",
      "Sunset in AEST - 4:56:15 pm\n"
     ]
    }
   ],
   "source": [
    "sunriseTime = calcSunriseTime(-33.866195962120834, 151.1808770597708, 27,5,2022)\n",
    "sunsetTime = calcSunsetTime(-33.866195962120834, 151.1808770597708, 27,5,2022)\n",
    "AEST = 10 # UTC+10:00 hrs\n",
    "\n",
    "println(\"Sunrise in UTC - \", getTimeFromHours(sunriseTime))\n",
    "println(\"Sunset in UTC - \",getTimeFromHours(sunsetTime),'\\n')\n",
    "\n",
    "println(\"Sunrise in AEST - \",getTimeFromHours(sunriseTime + AEST))\n",
    "println(\"Sunset in AEST - \",getTimeFromHours(sunsetTime + AEST))"
   ]
  }
 ],
 "metadata": {
  "@webio": {
   "lastCommId": null,
   "lastKernelId": null
  },
  "kernelspec": {
   "display_name": "Julia 1.6.0",
   "language": "julia",
   "name": "julia-1.6"
  },
  "language_info": {
   "file_extension": ".jl",
   "mimetype": "application/julia",
   "name": "julia",
   "version": "1.6.3"
  }
 },
 "nbformat": 4,
 "nbformat_minor": 5
}
